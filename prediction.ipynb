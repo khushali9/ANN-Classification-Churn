{
 "cells": [
  {
   "cell_type": "code",
   "execution_count": null,
   "id": "e9b30e5a",
   "metadata": {},
   "outputs": [
    {
     "name": "stdout",
     "output_type": "stream",
     "text": [
      "   Geography_France  Geography_Germany  Geography_Spain\n",
      "0               1.0                0.0              0.0\n",
      "   Gender\n",
      "0       1\n",
      "Expected columns: ['CreditScore' 'Gender' 'Age' 'Tenure' 'Balance' 'NumOfProducts'\n",
      " 'HasCrCard' 'IsActiveMember' 'EstimatedSalary' 'Geography_France'\n",
      " 'Geography_Germany' 'Geography_Spain']\n",
      "WARNING:tensorflow:5 out of the last 5 calls to <function Model.make_predict_function.<locals>.predict_function at 0x179eed1c0> triggered tf.function retracing. Tracing is expensive and the excessive number of tracings could be due to (1) creating @tf.function repeatedly in a loop, (2) passing tensors with different shapes, (3) passing Python objects instead of tensors. For (1), please define your @tf.function outside of the loop. For (2), @tf.function has reduce_retracing=True option that can avoid unnecessary retracing. For (3), please refer to https://www.tensorflow.org/guide/function#controlling_retracing and https://www.tensorflow.org/api_docs/python/tf/function for  more details.\n",
      "1/1 [==============================] - 0s 22ms/step\n",
      "Prediction: [[0.03510314]]\n",
      "Customer will stay with the bank\n"
     ]
    },
    {
     "name": "stderr",
     "output_type": "stream",
     "text": [
      "/Users/khushalidesai/Desktop/ANN Classification/venv/lib/python3.11/site-packages/sklearn/utils/validation.py:2749: UserWarning: X does not have valid feature names, but OneHotEncoder was fitted with feature names\n",
      "  warnings.warn(\n"
     ]
    }
   ],
   "source": [
    "import tensorflow as tf\n",
    "from tensorflow.keras.models import load_model\n",
    "import pickle\n",
    "import pandas as pd\n",
    "import numpy as np\n",
    "\n",
    "#load train model, scaler pickle, \n",
    "#load pickel file to do prediction\n",
    "model=load_model('churn_model.h5')\n",
    "with open('onehot_encoder_geo.pkl','rb') as file:\n",
    "    label_encoder_geo=pickle.load(file)\n",
    "with open('label_encoder_gender.pkl','rb') as file:\n",
    "    label_encoder_gender=pickle.load(file)\n",
    "with open('scaler.pkl','rb') as file:\n",
    "    scaler=pickle.load(file)\n",
    "\n",
    "#example input data\n",
    "input_data={\n",
    "    'CreditScore':600,\n",
    "    'Geography':'France',\n",
    "    'Gender':'Male',\n",
    "    'Age':40,\n",
    "    'Tenure':3,\n",
    "    'Balance':60000,\n",
    "    'NumOfProducts':2,\n",
    "    'HasCrCard':1,\n",
    "    'IsActiveMember':1,\n",
    "    'EstimatedSalary':50000\n",
    "}\n",
    "\n",
    "geo_encoded = label_encoder_geo.transform([[input_data['Geography']]])\n",
    "geo_encoded_df = pd.DataFrame(geo_encoded, columns=label_encoder_geo.get_feature_names_out(['Geography']))\n",
    "print(geo_encoded_df)\n",
    "\n",
    "gender_encoded = label_encoder_gender.transform([input_data['Gender']])\n",
    "gender_encoded_df = pd.DataFrame(gender_encoded, columns=['Gender'])\n",
    "print(gender_encoded_df)\n",
    "input_data = pd.DataFrame([input_data])  # convert to dataframe\n",
    "\n",
    "# Remove 'Geography' column and add encoded columns\n",
    "input_data = input_data.drop(\"Geography\", axis=1)\n",
    "input_data['Gender'] = label_encoder_gender.transform(input_data['Gender'])\n",
    "input_data = pd.concat([input_data.reset_index(drop=True), geo_encoded_df], axis=1)\n",
    "# Reorder columns to match scaler's expected order\n",
    "expected_columns = scaler.feature_names_in_\n",
    "print(\"Expected columns:\", expected_columns)\n",
    "\n",
    "input_data = input_data[expected_columns]\n",
    "input_scaled = scaler.transform(input_data)\n",
    "\n",
    "\n",
    "predictions=model.predict(input_scaled)\n",
    "print(\"Prediction:\", predictions)\n",
    "\n",
    "if predictions[0][0]>0.5:\n",
    "    print(\"Customer will leave the bank\")\n",
    "else:\n",
    "    print(\"Customer will stay with the bank\")\n",
    "\n"
   ]
  },
  {
   "cell_type": "code",
   "execution_count": null,
   "id": "c241cef4",
   "metadata": {},
   "outputs": [],
   "source": []
  }
 ],
 "metadata": {
  "kernelspec": {
   "display_name": "Python 3",
   "language": "python",
   "name": "python3"
  },
  "language_info": {
   "codemirror_mode": {
    "name": "ipython",
    "version": 3
   },
   "file_extension": ".py",
   "mimetype": "text/x-python",
   "name": "python",
   "nbconvert_exporter": "python",
   "pygments_lexer": "ipython3",
   "version": "3.11.0"
  }
 },
 "nbformat": 4,
 "nbformat_minor": 5
}
